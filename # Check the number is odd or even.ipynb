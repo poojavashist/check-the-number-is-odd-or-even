{
 "cells": [
  {
   "cell_type": "markdown",
   "metadata": {},
   "source": [
    "# check the number is odd or even"
   ]
  },
  {
   "cell_type": "code",
   "execution_count": 2,
   "metadata": {},
   "outputs": [
    {
     "name": "stdout",
     "output_type": "stream",
     "text": [
      "Enter your number and check if it is odd or even  :69\n",
      "This is an odd number\n"
     ]
    }
   ],
   "source": [
    "\n",
    "#Write your code below this line 👇\n",
    "\n",
    "number= int(input(\"Enter your number and check if it is odd or even  :\")) \n",
    "\n",
    "if number % 2 ==0:\n",
    "  print(\"Number is even\") \n",
    "else:\n",
    "  print(\"This is an odd number\")\n",
    "\n",
    "\n"
   ]
  },
  {
   "cell_type": "code",
   "execution_count": null,
   "metadata": {},
   "outputs": [],
   "source": []
  }
 ],
 "metadata": {
  "kernelspec": {
   "display_name": "Python 3",
   "language": "python",
   "name": "python3"
  },
  "language_info": {
   "codemirror_mode": {
    "name": "ipython",
    "version": 3
   },
   "file_extension": ".py",
   "mimetype": "text/x-python",
   "name": "python",
   "nbconvert_exporter": "python",
   "pygments_lexer": "ipython3",
   "version": "3.8.3"
  }
 },
 "nbformat": 4,
 "nbformat_minor": 4
}
